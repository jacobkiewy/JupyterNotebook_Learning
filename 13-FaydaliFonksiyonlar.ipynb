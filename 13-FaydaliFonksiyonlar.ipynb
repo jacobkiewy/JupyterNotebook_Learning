{
 "cells": [
  {
   "cell_type": "code",
   "execution_count": 53,
   "id": "7bdb4e70",
   "metadata": {},
   "outputs": [],
   "source": [
    "def bolmeIslemi(num):\n",
    "    return num/2"
   ]
  },
  {
   "cell_type": "code",
   "execution_count": 54,
   "id": "4a8ff01d",
   "metadata": {},
   "outputs": [
    {
     "data": {
      "text/plain": [
       "10.0"
      ]
     },
     "execution_count": 54,
     "metadata": {},
     "output_type": "execute_result"
    }
   ],
   "source": [
    "bolmeIslemi(20)"
   ]
  },
  {
   "cell_type": "code",
   "execution_count": 55,
   "id": "30efdf0b",
   "metadata": {},
   "outputs": [],
   "source": [
    "benimListem=list(range(1,10))"
   ]
  },
  {
   "cell_type": "code",
   "execution_count": 56,
   "id": "b0bd0b91",
   "metadata": {},
   "outputs": [
    {
     "data": {
      "text/plain": [
       "[1, 2, 3, 4, 5, 6, 7, 8, 9]"
      ]
     },
     "execution_count": 56,
     "metadata": {},
     "output_type": "execute_result"
    }
   ],
   "source": [
    "benimListem"
   ]
  },
  {
   "cell_type": "code",
   "execution_count": 57,
   "id": "1bccd5a4",
   "metadata": {},
   "outputs": [],
   "source": [
    "yeniListe=[]\n",
    "for eleman in benimListem:\n",
    "    yeniListe.append(bolmeIslemi(eleman))"
   ]
  },
  {
   "cell_type": "code",
   "execution_count": 58,
   "id": "fe49f15a",
   "metadata": {},
   "outputs": [
    {
     "data": {
      "text/plain": [
       "[0.5, 1.0, 1.5, 2.0, 2.5, 3.0, 3.5, 4.0, 4.5]"
      ]
     },
     "execution_count": 58,
     "metadata": {},
     "output_type": "execute_result"
    }
   ],
   "source": [
    "yeniListe"
   ]
  },
  {
   "cell_type": "markdown",
   "id": "e1f4323a",
   "metadata": {},
   "source": [
    "## map"
   ]
  },
  {
   "cell_type": "code",
   "execution_count": 59,
   "id": "7c2eb7cb",
   "metadata": {},
   "outputs": [
    {
     "data": {
      "text/plain": [
       "[0.5, 1.0, 1.5, 2.0, 2.5, 3.0, 3.5, 4.0, 4.5]"
      ]
     },
     "execution_count": 59,
     "metadata": {},
     "output_type": "execute_result"
    }
   ],
   "source": [
    "list(map(bolmaIslemi,benimListem))"
   ]
  },
  {
   "cell_type": "code",
   "execution_count": 60,
   "id": "d7e6b788",
   "metadata": {},
   "outputs": [],
   "source": [
    "def kontrolFonksiyonu(string):\n",
    "    return \"a\" in string"
   ]
  },
  {
   "cell_type": "code",
   "execution_count": 61,
   "id": "b4e91fc9",
   "metadata": {},
   "outputs": [
    {
     "data": {
      "text/plain": [
       "True"
      ]
     },
     "execution_count": 61,
     "metadata": {},
     "output_type": "execute_result"
    }
   ],
   "source": [
    "kontrolFonksiyonu(\"yakup\")"
   ]
  },
  {
   "cell_type": "code",
   "execution_count": 62,
   "id": "16b6ca61",
   "metadata": {},
   "outputs": [],
   "source": [
    "stringListesi=[\"yakup\",\"burak\",\"yusuf\",\"mehmet\"]"
   ]
  },
  {
   "cell_type": "code",
   "execution_count": 63,
   "id": "0ae4b437",
   "metadata": {},
   "outputs": [
    {
     "name": "stdout",
     "output_type": "stream",
     "text": [
      "içinde a var yakup\n",
      "içinde a var burak\n",
      "içinde a yok yusuf\n",
      "içinde a yok mehmet\n"
     ]
    }
   ],
   "source": [
    "for eleman in stringListesi:\n",
    "    if \"a\" in eleman:\n",
    "        print(f\"içinde a var {eleman}\")\n",
    "    else:\n",
    "        print(f\"içinde a yok {eleman}\")"
   ]
  },
  {
   "cell_type": "code",
   "execution_count": 64,
   "id": "324af390",
   "metadata": {},
   "outputs": [],
   "source": [
    "def kontrol(string):\n",
    "    if \"a\" in string:\n",
    "        return \"içinde a var\"+\" \"+string\n",
    "    else:\n",
    "        return \"içinde a yok\"+\" \"+string"
   ]
  },
  {
   "cell_type": "code",
   "execution_count": 65,
   "id": "d16f80a9",
   "metadata": {},
   "outputs": [
    {
     "data": {
      "text/plain": [
       "['içinde a var yakup',\n",
       " 'içinde a var burak',\n",
       " 'içinde a yok yusuf',\n",
       " 'içinde a yok mehmet']"
      ]
     },
     "execution_count": 65,
     "metadata": {},
     "output_type": "execute_result"
    }
   ],
   "source": [
    "list(map(kontrol,stringListesi))"
   ]
  },
  {
   "cell_type": "code",
   "execution_count": 66,
   "id": "f583979e",
   "metadata": {},
   "outputs": [],
   "source": [
    "sonuc=list(map(kontrol,stringListesi))"
   ]
  },
  {
   "cell_type": "code",
   "execution_count": 67,
   "id": "d3a78405",
   "metadata": {},
   "outputs": [
    {
     "data": {
      "text/plain": [
       "['içinde a var yakup',\n",
       " 'içinde a var burak',\n",
       " 'içinde a yok yusuf',\n",
       " 'içinde a yok mehmet']"
      ]
     },
     "execution_count": 67,
     "metadata": {},
     "output_type": "execute_result"
    }
   ],
   "source": [
    "sonuc"
   ]
  },
  {
   "cell_type": "markdown",
   "id": "807de98c",
   "metadata": {},
   "source": [
    "## filter"
   ]
  },
  {
   "cell_type": "code",
   "execution_count": 68,
   "id": "eeca69e3",
   "metadata": {},
   "outputs": [
    {
     "data": {
      "text/plain": [
       "['yakup', 'burak']"
      ]
     },
     "execution_count": 68,
     "metadata": {},
     "output_type": "execute_result"
    }
   ],
   "source": [
    "list(filter(kontrolFonksiyonu,stringListesi))"
   ]
  },
  {
   "cell_type": "markdown",
   "id": "6b4526ef",
   "metadata": {},
   "source": [
    "## lambda"
   ]
  },
  {
   "cell_type": "code",
   "execution_count": 69,
   "id": "de9c95a5",
   "metadata": {},
   "outputs": [],
   "source": [
    "carpma=lambda numara : numara*3"
   ]
  },
  {
   "cell_type": "code",
   "execution_count": 70,
   "id": "6c4c1b02",
   "metadata": {},
   "outputs": [
    {
     "data": {
      "text/plain": [
       "30"
      ]
     },
     "execution_count": 70,
     "metadata": {},
     "output_type": "execute_result"
    }
   ],
   "source": [
    "carpma(10)"
   ]
  },
  {
   "cell_type": "code",
   "execution_count": 71,
   "id": "0dd19098",
   "metadata": {},
   "outputs": [],
   "source": [
    "yeniListe=[10,20,30]"
   ]
  },
  {
   "cell_type": "code",
   "execution_count": 73,
   "id": "680e0567",
   "metadata": {},
   "outputs": [
    {
     "data": {
      "text/plain": [
       "[30, 60, 90]"
      ]
     },
     "execution_count": 73,
     "metadata": {},
     "output_type": "execute_result"
    }
   ],
   "source": [
    "list(map(lambda numara : numara*3,yeniListe))"
   ]
  },
  {
   "cell_type": "code",
   "execution_count": null,
   "id": "4ff7e61a",
   "metadata": {},
   "outputs": [],
   "source": []
  }
 ],
 "metadata": {
  "kernelspec": {
   "display_name": "Python 3",
   "language": "python",
   "name": "python3"
  },
  "language_info": {
   "codemirror_mode": {
    "name": "ipython",
    "version": 3
   },
   "file_extension": ".py",
   "mimetype": "text/x-python",
   "name": "python",
   "nbconvert_exporter": "python",
   "pygments_lexer": "ipython3",
   "version": "3.8.8"
  }
 },
 "nbformat": 4,
 "nbformat_minor": 5
}
