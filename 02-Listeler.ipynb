{
 "cells": [
  {
   "cell_type": "code",
   "execution_count": 1,
   "id": "413c39e5",
   "metadata": {},
   "outputs": [],
   "source": [
    "sayiList=[10,20,30,40,50]"
   ]
  },
  {
   "cell_type": "code",
   "execution_count": 3,
   "id": "5cff9b17",
   "metadata": {},
   "outputs": [
    {
     "data": {
      "text/plain": [
       "list"
      ]
     },
     "execution_count": 3,
     "metadata": {},
     "output_type": "execute_result"
    }
   ],
   "source": [
    "type(sayiList)"
   ]
  },
  {
   "cell_type": "code",
   "execution_count": 4,
   "id": "6a3ea5d4",
   "metadata": {},
   "outputs": [],
   "source": [
    "numara1=10\n",
    "numara2=20\n",
    "numaraList=[numara1,numara2]"
   ]
  },
  {
   "cell_type": "code",
   "execution_count": 5,
   "id": "728f500d",
   "metadata": {},
   "outputs": [
    {
     "data": {
      "text/plain": [
       "10"
      ]
     },
     "execution_count": 5,
     "metadata": {},
     "output_type": "execute_result"
    }
   ],
   "source": [
    "numaraList[0]"
   ]
  },
  {
   "cell_type": "code",
   "execution_count": 6,
   "id": "ef1f4904",
   "metadata": {},
   "outputs": [
    {
     "data": {
      "text/plain": [
       "[20, 10]"
      ]
     },
     "execution_count": 6,
     "metadata": {},
     "output_type": "execute_result"
    }
   ],
   "source": [
    "numaraList[::-1]"
   ]
  },
  {
   "cell_type": "code",
   "execution_count": 7,
   "id": "d30717dc",
   "metadata": {},
   "outputs": [],
   "source": [
    "sayiList.append(100)"
   ]
  },
  {
   "cell_type": "code",
   "execution_count": 8,
   "id": "da373e28",
   "metadata": {},
   "outputs": [
    {
     "data": {
      "text/plain": [
       "[10, 20, 30, 40, 50, 100]"
      ]
     },
     "execution_count": 8,
     "metadata": {},
     "output_type": "execute_result"
    }
   ],
   "source": [
    "sayiList"
   ]
  },
  {
   "cell_type": "code",
   "execution_count": 9,
   "id": "ef04e45a",
   "metadata": {},
   "outputs": [],
   "source": [
    "sayiList.remove(100)"
   ]
  },
  {
   "cell_type": "code",
   "execution_count": 10,
   "id": "af51ab3e",
   "metadata": {},
   "outputs": [
    {
     "data": {
      "text/plain": [
       "[10, 20, 30, 40, 50]"
      ]
     },
     "execution_count": 10,
     "metadata": {},
     "output_type": "execute_result"
    }
   ],
   "source": [
    "sayiList"
   ]
  },
  {
   "cell_type": "code",
   "execution_count": 11,
   "id": "1143ab3c",
   "metadata": {},
   "outputs": [
    {
     "data": {
      "text/plain": [
       "1"
      ]
     },
     "execution_count": 11,
     "metadata": {},
     "output_type": "execute_result"
    }
   ],
   "source": [
    "sayiList.count(20)"
   ]
  },
  {
   "cell_type": "code",
   "execution_count": 12,
   "id": "a3e20705",
   "metadata": {},
   "outputs": [
    {
     "data": {
      "text/plain": [
       "5"
      ]
     },
     "execution_count": 12,
     "metadata": {},
     "output_type": "execute_result"
    }
   ],
   "source": [
    "len(sayiList)"
   ]
  },
  {
   "cell_type": "code",
   "execution_count": 22,
   "id": "3fba103d",
   "metadata": {},
   "outputs": [],
   "source": [
    "sayiList.append(100)"
   ]
  },
  {
   "cell_type": "code",
   "execution_count": 24,
   "id": "837a3ed3",
   "metadata": {},
   "outputs": [
    {
     "data": {
      "text/plain": [
       "[10, 20, 30, 40, 50]"
      ]
     },
     "execution_count": 24,
     "metadata": {},
     "output_type": "execute_result"
    }
   ],
   "source": [
    "sayiList"
   ]
  },
  {
   "cell_type": "code",
   "execution_count": 23,
   "id": "c2803640",
   "metadata": {},
   "outputs": [
    {
     "data": {
      "text/plain": [
       "100"
      ]
     },
     "execution_count": 23,
     "metadata": {},
     "output_type": "execute_result"
    }
   ],
   "source": [
    "sayiList.pop() #son elemanı çıkarır"
   ]
  },
  {
   "cell_type": "code",
   "execution_count": 25,
   "id": "6ff6c1b8",
   "metadata": {},
   "outputs": [],
   "source": [
    "stringList=[\"a\",\"b\",\"c\",\"d\"]"
   ]
  },
  {
   "cell_type": "code",
   "execution_count": 26,
   "id": "cafa875c",
   "metadata": {},
   "outputs": [],
   "source": [
    "toplamList=sayiList+stringList"
   ]
  },
  {
   "cell_type": "code",
   "execution_count": 27,
   "id": "5db002d8",
   "metadata": {},
   "outputs": [
    {
     "data": {
      "text/plain": [
       "[10, 20, 30, 40, 50, 'a', 'b', 'c', 'd']"
      ]
     },
     "execution_count": 27,
     "metadata": {},
     "output_type": "execute_result"
    }
   ],
   "source": [
    "toplamList"
   ]
  },
  {
   "cell_type": "code",
   "execution_count": 29,
   "id": "8a82ee3b",
   "metadata": {},
   "outputs": [
    {
     "data": {
      "text/plain": [
       "['d', 'c', 'b', 'a', 50, 40, 30, 20, 10]"
      ]
     },
     "execution_count": 29,
     "metadata": {},
     "output_type": "execute_result"
    }
   ],
   "source": [
    "toplamList[::-1]"
   ]
  },
  {
   "cell_type": "code",
   "execution_count": 63,
   "id": "12e8e601",
   "metadata": {},
   "outputs": [],
   "source": [
    "carpimLİst=toplamList*3"
   ]
  },
  {
   "cell_type": "code",
   "execution_count": 64,
   "id": "a0846996",
   "metadata": {},
   "outputs": [
    {
     "data": {
      "text/plain": [
       "['d',\n",
       " 'c',\n",
       " 'b',\n",
       " 'a',\n",
       " 50,\n",
       " 40,\n",
       " 30,\n",
       " 20,\n",
       " 10,\n",
       " 'd',\n",
       " 'c',\n",
       " 'b',\n",
       " 'a',\n",
       " 50,\n",
       " 40,\n",
       " 30,\n",
       " 20,\n",
       " 10,\n",
       " 'd',\n",
       " 'c',\n",
       " 'b',\n",
       " 'a',\n",
       " 50,\n",
       " 40,\n",
       " 30,\n",
       " 20,\n",
       " 10]"
      ]
     },
     "execution_count": 64,
     "metadata": {},
     "output_type": "execute_result"
    }
   ],
   "source": [
    "carpimLİst"
   ]
  },
  {
   "cell_type": "code",
   "execution_count": 35,
   "id": "1c83f99c",
   "metadata": {},
   "outputs": [],
   "source": [
    "toplamList.reverse()"
   ]
  },
  {
   "cell_type": "code",
   "execution_count": 36,
   "id": "86f34139",
   "metadata": {},
   "outputs": [
    {
     "data": {
      "text/plain": [
       "['d', 'c', 'b', 'a', 50, 40, 30, 20, 10]"
      ]
     },
     "execution_count": 36,
     "metadata": {},
     "output_type": "execute_result"
    }
   ],
   "source": [
    "toplamList"
   ]
  },
  {
   "cell_type": "code",
   "execution_count": 37,
   "id": "702c6777",
   "metadata": {},
   "outputs": [],
   "source": [
    "karisikList=[5,9,2.54,\"Yakup\",5.4,7]"
   ]
  },
  {
   "cell_type": "code",
   "execution_count": 38,
   "id": "c9b75706",
   "metadata": {},
   "outputs": [
    {
     "data": {
      "text/plain": [
       "[5, 9, 2.54, 'Yakup', 5.4, 7]"
      ]
     },
     "execution_count": 38,
     "metadata": {},
     "output_type": "execute_result"
    }
   ],
   "source": [
    "karisikList"
   ]
  },
  {
   "cell_type": "code",
   "execution_count": 39,
   "id": "907ec487",
   "metadata": {},
   "outputs": [
    {
     "data": {
      "text/plain": [
       "list"
      ]
     },
     "execution_count": 39,
     "metadata": {},
     "output_type": "execute_result"
    }
   ],
   "source": [
    "type(karisikList)"
   ]
  },
  {
   "cell_type": "code",
   "execution_count": 44,
   "id": "1f42cd52",
   "metadata": {},
   "outputs": [
    {
     "data": {
      "text/plain": [
       "5"
      ]
     },
     "execution_count": 44,
     "metadata": {},
     "output_type": "execute_result"
    }
   ],
   "source": [
    "sonuc=karisikList[0]\n",
    "karisikList[0]"
   ]
  },
  {
   "cell_type": "code",
   "execution_count": 45,
   "id": "6c7b6f71",
   "metadata": {},
   "outputs": [
    {
     "data": {
      "text/plain": [
       "int"
      ]
     },
     "execution_count": 45,
     "metadata": {},
     "output_type": "execute_result"
    }
   ],
   "source": [
    "type(sonuc)"
   ]
  },
  {
   "cell_type": "code",
   "execution_count": 46,
   "id": "3139af83",
   "metadata": {},
   "outputs": [
    {
     "data": {
      "text/plain": [
       "2.54"
      ]
     },
     "execution_count": 46,
     "metadata": {},
     "output_type": "execute_result"
    }
   ],
   "source": [
    "sonuc2=karisikList[2]\n",
    "karisikList[2]"
   ]
  },
  {
   "cell_type": "code",
   "execution_count": 47,
   "id": "737641e5",
   "metadata": {},
   "outputs": [
    {
     "data": {
      "text/plain": [
       "float"
      ]
     },
     "execution_count": 47,
     "metadata": {},
     "output_type": "execute_result"
    }
   ],
   "source": [
    "type(sonuc2)"
   ]
  },
  {
   "cell_type": "code",
   "execution_count": 50,
   "id": "c8b8d7f0",
   "metadata": {},
   "outputs": [],
   "source": [
    "nestedList=[[1,2,3],4.5,8,\"yakup\",[\"a\",\"b\",\"c\"]]"
   ]
  },
  {
   "cell_type": "code",
   "execution_count": 51,
   "id": "8dd5d598",
   "metadata": {},
   "outputs": [
    {
     "data": {
      "text/plain": [
       "[[1, 2, 3], 4.5, 8, 'yakup', ['a', 'b', 'c']]"
      ]
     },
     "execution_count": 51,
     "metadata": {},
     "output_type": "execute_result"
    }
   ],
   "source": [
    "nestedList"
   ]
  },
  {
   "cell_type": "code",
   "execution_count": 54,
   "id": "a829bdba",
   "metadata": {},
   "outputs": [
    {
     "data": {
      "text/plain": [
       "['a', 'b', 'c']"
      ]
     },
     "execution_count": 54,
     "metadata": {},
     "output_type": "execute_result"
    }
   ],
   "source": [
    "nestedList[4]"
   ]
  },
  {
   "cell_type": "code",
   "execution_count": 58,
   "id": "5fc86f6e",
   "metadata": {},
   "outputs": [],
   "source": [
    "z=nestedList[4][2]"
   ]
  },
  {
   "cell_type": "code",
   "execution_count": 59,
   "id": "37dcc98c",
   "metadata": {},
   "outputs": [
    {
     "data": {
      "text/plain": [
       "'c'"
      ]
     },
     "execution_count": 59,
     "metadata": {},
     "output_type": "execute_result"
    }
   ],
   "source": [
    "z"
   ]
  },
  {
   "cell_type": "code",
   "execution_count": 60,
   "id": "df5da929",
   "metadata": {},
   "outputs": [],
   "source": [
    "karmasikListe=[1,2,[\"a\",\"b\",[4,8,[\"q\",4.4]]]]"
   ]
  },
  {
   "cell_type": "code",
   "execution_count": 61,
   "id": "841ccf83",
   "metadata": {},
   "outputs": [
    {
     "data": {
      "text/plain": [
       "4.4"
      ]
     },
     "execution_count": 61,
     "metadata": {},
     "output_type": "execute_result"
    }
   ],
   "source": [
    "karmasikListe[2][2][2][1]"
   ]
  },
  {
   "cell_type": "code",
   "execution_count": null,
   "id": "7acbece0",
   "metadata": {},
   "outputs": [],
   "source": []
  }
 ],
 "metadata": {
  "kernelspec": {
   "display_name": "Python 3",
   "language": "python",
   "name": "python3"
  },
  "language_info": {
   "codemirror_mode": {
    "name": "ipython",
    "version": 3
   },
   "file_extension": ".py",
   "mimetype": "text/x-python",
   "name": "python",
   "nbconvert_exporter": "python",
   "pygments_lexer": "ipython3",
   "version": "3.8.8"
  }
 },
 "nbformat": 4,
 "nbformat_minor": 5
}
