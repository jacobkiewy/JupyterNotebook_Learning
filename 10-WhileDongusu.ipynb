{
 "cells": [
  {
   "cell_type": "code",
   "execution_count": 1,
   "id": "c98897a0",
   "metadata": {},
   "outputs": [
    {
     "name": "stdout",
     "output_type": "stream",
     "text": [
      "1\n",
      "2\n",
      "3\n",
      "4\n",
      "5\n",
      "6\n",
      "7\n",
      "8\n",
      "9\n"
     ]
    }
   ],
   "source": [
    "x=1\n",
    "while x<10:\n",
    "    print(x)\n",
    "    x=x+1"
   ]
  },
  {
   "cell_type": "code",
   "execution_count": 2,
   "id": "4ebe7b7f",
   "metadata": {},
   "outputs": [
    {
     "name": "stdout",
     "output_type": "stream",
     "text": [
      "3 hala liste de var: \n",
      "5\n",
      "3 hala liste de var: \n",
      "4\n",
      "3 hala liste de var: \n",
      "3\n"
     ]
    }
   ],
   "source": [
    "benimListem=[1,2,3,4,5]\n",
    "while 3 in benimListem:\n",
    "    print(\"3 hala liste de var: \")\n",
    "    print(benimListem[-1])\n",
    "    benimListem.pop()"
   ]
  },
  {
   "cell_type": "code",
   "execution_count": 3,
   "id": "d5d1f02b",
   "metadata": {},
   "outputs": [
    {
     "data": {
      "text/plain": [
       "[1, 2]"
      ]
     },
     "execution_count": 3,
     "metadata": {},
     "output_type": "execute_result"
    }
   ],
   "source": [
    "benimListem"
   ]
  },
  {
   "cell_type": "code",
   "execution_count": 4,
   "id": "5b7c57b6",
   "metadata": {},
   "outputs": [
    {
     "name": "stdout",
     "output_type": "stream",
     "text": [
      "0\n",
      "1\n",
      "2\n",
      "3\n",
      "4\n"
     ]
    }
   ],
   "source": [
    "numara=0\n",
    "while numara<5:\n",
    "    if numara==5:\n",
    "        break\n",
    "    print(numara)\n",
    "    numara=numara+1"
   ]
  },
  {
   "cell_type": "code",
   "execution_count": 8,
   "id": "190cd003",
   "metadata": {},
   "outputs": [
    {
     "name": "stdout",
     "output_type": "stream",
     "text": [
      "yeniDegiskenin güncel değeri: 0\n",
      "yeniDegiskenin güncel değeri: 1\n",
      "yeniDegiskenin güncel değeri: 2\n",
      "yeniDegiskenin güncel değeri: 3\n",
      "yeniDegiskenin güncel değeri: 4\n",
      "yeniDegiskenin güncel değeri: 5\n",
      "yeniDegiskenin güncel değeri: 6\n",
      "yeniDegiskenin güncel değeri: 7\n",
      "yeniDegiskenin güncel değeri: 8\n",
      "yeniDegiskenin güncel değeri: 9\n",
      "yeniDegiskenin güncel değeri: 10\n",
      "yeniDegiskenin güncel değeri: 11\n",
      "yeniDegiskenin güncel değeri: 12\n",
      "yeniDegiskenin güncel değeri: 13\n",
      "yeniDegiskenin güncel değeri: 14\n"
     ]
    }
   ],
   "source": [
    "yeniDegisken=0\n",
    "while yeniDegisken<15:\n",
    "    #print(\"yeniDegiskenin güncel değeri: \"+ str(yeniDegisken))\n",
    "    print(f\"yeniDegiskenin güncel değeri: {yeniDegisken}\")\n",
    "    yeniDegisken=yeniDegisken+1"
   ]
  },
  {
   "cell_type": "code",
   "execution_count": null,
   "id": "c2f608c2",
   "metadata": {},
   "outputs": [],
   "source": []
  }
 ],
 "metadata": {
  "kernelspec": {
   "display_name": "Python 3",
   "language": "python",
   "name": "python3"
  },
  "language_info": {
   "codemirror_mode": {
    "name": "ipython",
    "version": 3
   },
   "file_extension": ".py",
   "mimetype": "text/x-python",
   "name": "python",
   "nbconvert_exporter": "python",
   "pygments_lexer": "ipython3",
   "version": "3.8.8"
  }
 },
 "nbformat": 4,
 "nbformat_minor": 5
}
