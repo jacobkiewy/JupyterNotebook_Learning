{
 "cells": [
  {
   "cell_type": "code",
   "execution_count": 1,
   "id": "7895904a",
   "metadata": {},
   "outputs": [],
   "source": [
    "benimAdim=\"Yakup Bekar\""
   ]
  },
  {
   "cell_type": "code",
   "execution_count": 2,
   "id": "baaeb291",
   "metadata": {},
   "outputs": [
    {
     "data": {
      "text/plain": [
       "'YAKUP BEKAR'"
      ]
     },
     "execution_count": 2,
     "metadata": {},
     "output_type": "execute_result"
    }
   ],
   "source": [
    "benimAdim.upper()"
   ]
  },
  {
   "cell_type": "code",
   "execution_count": 5,
   "id": "7cad0ead",
   "metadata": {},
   "outputs": [
    {
     "name": "stdout",
     "output_type": "stream",
     "text": [
      "Help on built-in function upper:\n",
      "\n",
      "upper() method of builtins.str instance\n",
      "    Return a copy of the string converted to uppercase.\n",
      "\n"
     ]
    }
   ],
   "source": [
    "help(benimAdim.upper)"
   ]
  },
  {
   "cell_type": "code",
   "execution_count": 6,
   "id": "19156c9f",
   "metadata": {},
   "outputs": [],
   "source": [
    "def ilkFonksiyonum():\n",
    "    print(\"ilk fonksiyonum\")"
   ]
  },
  {
   "cell_type": "code",
   "execution_count": 8,
   "id": "fc67da30",
   "metadata": {},
   "outputs": [
    {
     "data": {
      "text/plain": [
       "<function __main__.ilkFonksiyonum()>"
      ]
     },
     "execution_count": 8,
     "metadata": {},
     "output_type": "execute_result"
    }
   ],
   "source": [
    "ilkFonksiyonum"
   ]
  },
  {
   "cell_type": "code",
   "execution_count": 7,
   "id": "7d160a2d",
   "metadata": {},
   "outputs": [
    {
     "name": "stdout",
     "output_type": "stream",
     "text": [
      "ilk fonksiyonum\n"
     ]
    }
   ],
   "source": [
    "ilkFonksiyonum()"
   ]
  },
  {
   "cell_type": "markdown",
   "id": "342ea9a2",
   "metadata": {},
   "source": [
    "###  Input-Return && Girdi-Çıktı "
   ]
  },
  {
   "cell_type": "code",
   "execution_count": 1,
   "id": "c60e3c30",
   "metadata": {},
   "outputs": [],
   "source": [
    "def merhabaDunya(yazdirilacakIsim):\n",
    "    print(f\"merhaba {yazdirilacakIsim}\")"
   ]
  },
  {
   "cell_type": "code",
   "execution_count": 3,
   "id": "e866a2a0",
   "metadata": {},
   "outputs": [
    {
     "name": "stdout",
     "output_type": "stream",
     "text": [
      "merhaba Yakup\n"
     ]
    }
   ],
   "source": [
    "merhabaDunya(\"Yakup\")"
   ]
  },
  {
   "cell_type": "code",
   "execution_count": 4,
   "id": "23fc812f",
   "metadata": {},
   "outputs": [],
   "source": [
    "def merhaba(isim=\"Yakup\"):\n",
    "    print(f\"Merhaba {isim}\")"
   ]
  },
  {
   "cell_type": "code",
   "execution_count": 5,
   "id": "80cdce02",
   "metadata": {},
   "outputs": [
    {
     "name": "stdout",
     "output_type": "stream",
     "text": [
      "Merhaba Yakup\n"
     ]
    }
   ],
   "source": [
    "merhaba()"
   ]
  },
  {
   "cell_type": "code",
   "execution_count": 6,
   "id": "7e3a0f14",
   "metadata": {},
   "outputs": [
    {
     "name": "stdout",
     "output_type": "stream",
     "text": [
      "Merhaba Python\n"
     ]
    }
   ],
   "source": [
    "merhaba(\"Python\")"
   ]
  },
  {
   "cell_type": "code",
   "execution_count": 7,
   "id": "85872335",
   "metadata": {},
   "outputs": [],
   "source": [
    "def topla(n1,n2):\n",
    "    sonuc=n1+n2\n",
    "    print(sonuc)"
   ]
  },
  {
   "cell_type": "code",
   "execution_count": 8,
   "id": "9489e8a6",
   "metadata": {},
   "outputs": [
    {
     "name": "stdout",
     "output_type": "stream",
     "text": [
      "700\n"
     ]
    }
   ],
   "source": [
    "topla(140,560)"
   ]
  },
  {
   "cell_type": "code",
   "execution_count": 9,
   "id": "5efa58e3",
   "metadata": {},
   "outputs": [],
   "source": [
    "def superToplama(num1,num2,num3):\n",
    "    print(num1+num2+num3)"
   ]
  },
  {
   "cell_type": "code",
   "execution_count": 10,
   "id": "fe0ef0ea",
   "metadata": {},
   "outputs": [
    {
     "name": "stdout",
     "output_type": "stream",
     "text": [
      "60\n"
     ]
    }
   ],
   "source": [
    "superToplama(10,20,30)"
   ]
  },
  {
   "cell_type": "code",
   "execution_count": 12,
   "id": "4bfe2de5",
   "metadata": {},
   "outputs": [
    {
     "name": "stdout",
     "output_type": "stream",
     "text": [
      "3\n"
     ]
    }
   ],
   "source": [
    "yeniDegisken=topla(1,2)"
   ]
  },
  {
   "cell_type": "code",
   "execution_count": 15,
   "id": "b054bea5",
   "metadata": {},
   "outputs": [
    {
     "data": {
      "text/plain": [
       "NoneType"
      ]
     },
     "execution_count": 15,
     "metadata": {},
     "output_type": "execute_result"
    }
   ],
   "source": [
    "type(yeniDegisken)"
   ]
  },
  {
   "cell_type": "code",
   "execution_count": 16,
   "id": "0e1d67d6",
   "metadata": {},
   "outputs": [],
   "source": [
    "def dondurmeliToplama(num1,num2):\n",
    "    return num1+num2"
   ]
  },
  {
   "cell_type": "code",
   "execution_count": 17,
   "id": "d6421f23",
   "metadata": {},
   "outputs": [
    {
     "data": {
      "text/plain": [
       "30"
      ]
     },
     "execution_count": 17,
     "metadata": {},
     "output_type": "execute_result"
    }
   ],
   "source": [
    "dondurmeliToplama(10,20)"
   ]
  },
  {
   "cell_type": "code",
   "execution_count": 18,
   "id": "e602ea85",
   "metadata": {},
   "outputs": [],
   "source": [
    "yeniDegisken2=dondurmeliToplama(10,20)"
   ]
  },
  {
   "cell_type": "code",
   "execution_count": 19,
   "id": "7fa54d36",
   "metadata": {},
   "outputs": [
    {
     "data": {
      "text/plain": [
       "30"
      ]
     },
     "execution_count": 19,
     "metadata": {},
     "output_type": "execute_result"
    }
   ],
   "source": [
    "yeniDegisken2"
   ]
  },
  {
   "cell_type": "code",
   "execution_count": 20,
   "id": "8d46ab76",
   "metadata": {},
   "outputs": [
    {
     "data": {
      "text/plain": [
       "int"
      ]
     },
     "execution_count": 20,
     "metadata": {},
     "output_type": "execute_result"
    }
   ],
   "source": [
    "type(yeniDegisken2)"
   ]
  },
  {
   "cell_type": "code",
   "execution_count": 36,
   "id": "e1708ad8",
   "metadata": {},
   "outputs": [],
   "source": [
    "def kontrolFonksiyon(s):\n",
    "    print(type(s))\n",
    "    if type(s)==int or type(s)==\"float\":\n",
    "        print(\"verdiğiniz değer sayısal\")\n",
    "    else:\n",
    "        print(\"verdiğiniz değer metin\")"
   ]
  },
  {
   "cell_type": "code",
   "execution_count": 40,
   "id": "4b779070",
   "metadata": {},
   "outputs": [
    {
     "name": "stdout",
     "output_type": "stream",
     "text": [
      "<class 'int'>\n",
      "verdiğiniz değer sayısal\n"
     ]
    }
   ],
   "source": [
    "kontrolFonksiyon(1)"
   ]
  },
  {
   "cell_type": "code",
   "execution_count": 41,
   "id": "290bd9d6",
   "metadata": {},
   "outputs": [
    {
     "name": "stdout",
     "output_type": "stream",
     "text": [
      "<class 'str'>\n",
      "verdiğiniz değer metin\n"
     ]
    }
   ],
   "source": [
    "kontrolFonksiyon(\"s\")"
   ]
  },
  {
   "cell_type": "markdown",
   "id": "2a909a6c",
   "metadata": {},
   "source": [
    "## args & kwargs"
   ]
  },
  {
   "cell_type": "code",
   "execution_count": 42,
   "id": "42035ca0",
   "metadata": {},
   "outputs": [],
   "source": [
    "def yeniToplam(*args):\n",
    "    return sum(args)"
   ]
  },
  {
   "cell_type": "code",
   "execution_count": 43,
   "id": "4f1917bb",
   "metadata": {},
   "outputs": [
    {
     "data": {
      "text/plain": [
       "550"
      ]
     },
     "execution_count": 43,
     "metadata": {},
     "output_type": "execute_result"
    }
   ],
   "source": [
    "yeniToplam(10,20,30,40,50,60,70,80,90,100)"
   ]
  },
  {
   "cell_type": "code",
   "execution_count": 46,
   "id": "95b9ed4e",
   "metadata": {},
   "outputs": [],
   "source": [
    "def myFunction(*args):\n",
    "    print(args)\n",
    "def myFunction2(*args):\n",
    "    return(args)"
   ]
  },
  {
   "cell_type": "code",
   "execution_count": 50,
   "id": "7aacf91b",
   "metadata": {},
   "outputs": [
    {
     "name": "stdout",
     "output_type": "stream",
     "text": [
      "(10, 20, 30)\n"
     ]
    },
    {
     "data": {
      "text/plain": [
       "NoneType"
      ]
     },
     "execution_count": 50,
     "metadata": {},
     "output_type": "execute_result"
    }
   ],
   "source": [
    "type(myFunction(10,20,30))"
   ]
  },
  {
   "cell_type": "code",
   "execution_count": 49,
   "id": "0a46c8c9",
   "metadata": {},
   "outputs": [
    {
     "data": {
      "text/plain": [
       "tuple"
      ]
     },
     "execution_count": 49,
     "metadata": {},
     "output_type": "execute_result"
    }
   ],
   "source": [
    "type(myFunction2(10,20,30))"
   ]
  },
  {
   "cell_type": "code",
   "execution_count": 56,
   "id": "ecebaa35",
   "metadata": {},
   "outputs": [],
   "source": [
    "def keyFunction(**kwargs):\n",
    "    return(kwargs)"
   ]
  },
  {
   "cell_type": "code",
   "execution_count": 57,
   "id": "334c1d62",
   "metadata": {},
   "outputs": [
    {
     "data": {
      "text/plain": [
       "dict"
      ]
     },
     "execution_count": 57,
     "metadata": {},
     "output_type": "execute_result"
    }
   ],
   "source": [
    "type(keyFunction(muz=100,karpuz=300))"
   ]
  },
  {
   "cell_type": "code",
   "execution_count": 58,
   "id": "ffd0ed29",
   "metadata": {},
   "outputs": [],
   "source": [
    "def ornekFonksiyon(**kwargs):\n",
    "    if \"yakup\" in kwargs:\n",
    "        print(\"yakup var\")\n",
    "    else:\n",
    "        print(\"yakup yok\")"
   ]
  },
  {
   "cell_type": "code",
   "execution_count": 59,
   "id": "13b752ad",
   "metadata": {},
   "outputs": [
    {
     "name": "stdout",
     "output_type": "stream",
     "text": [
      "yakup var\n"
     ]
    }
   ],
   "source": [
    "ornekFonksiyon(yakup=10,ahmet=20,burak=30)"
   ]
  },
  {
   "cell_type": "code",
   "execution_count": null,
   "id": "918bfe2b",
   "metadata": {},
   "outputs": [],
   "source": []
  }
 ],
 "metadata": {
  "kernelspec": {
   "display_name": "Python 3",
   "language": "python",
   "name": "python3"
  },
  "language_info": {
   "codemirror_mode": {
    "name": "ipython",
    "version": 3
   },
   "file_extension": ".py",
   "mimetype": "text/x-python",
   "name": "python",
   "nbconvert_exporter": "python",
   "pygments_lexer": "ipython3",
   "version": "3.8.8"
  }
 },
 "nbformat": 4,
 "nbformat_minor": 5
}
