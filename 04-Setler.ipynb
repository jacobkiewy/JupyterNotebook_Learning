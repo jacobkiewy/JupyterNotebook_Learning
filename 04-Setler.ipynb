{
 "cells": [
  {
   "cell_type": "code",
   "execution_count": 1,
   "id": "2d0f4c09",
   "metadata": {},
   "outputs": [],
   "source": [
    "myList=[1,2,3,1,2,3]"
   ]
  },
  {
   "cell_type": "code",
   "execution_count": 2,
   "id": "09df9b9d",
   "metadata": {},
   "outputs": [
    {
     "data": {
      "text/plain": [
       "[1, 2, 3, 1, 2, 3]"
      ]
     },
     "execution_count": 2,
     "metadata": {},
     "output_type": "execute_result"
    }
   ],
   "source": [
    "myList"
   ]
  },
  {
   "cell_type": "code",
   "execution_count": 3,
   "id": "079d213e",
   "metadata": {},
   "outputs": [],
   "source": [
    "benimListeSetim=set(myList)"
   ]
  },
  {
   "cell_type": "code",
   "execution_count": 5,
   "id": "2db34d64",
   "metadata": {},
   "outputs": [
    {
     "data": {
      "text/plain": [
       "set"
      ]
     },
     "execution_count": 5,
     "metadata": {},
     "output_type": "execute_result"
    }
   ],
   "source": [
    "type(benimListeSetim)"
   ]
  },
  {
   "cell_type": "code",
   "execution_count": 4,
   "id": "9f40c32b",
   "metadata": {},
   "outputs": [
    {
     "data": {
      "text/plain": [
       "{1, 2, 3}"
      ]
     },
     "execution_count": 4,
     "metadata": {},
     "output_type": "execute_result"
    }
   ],
   "source": [
    "benimListeSetim"
   ]
  },
  {
   "cell_type": "code",
   "execution_count": 6,
   "id": "7b105238",
   "metadata": {},
   "outputs": [],
   "source": [
    "mySet={\"a\",\"b\",\"c\",\"a\"}    "
   ]
  },
  {
   "cell_type": "code",
   "execution_count": 7,
   "id": "61e9e7c7",
   "metadata": {},
   "outputs": [
    {
     "data": {
      "text/plain": [
       "set"
      ]
     },
     "execution_count": 7,
     "metadata": {},
     "output_type": "execute_result"
    }
   ],
   "source": [
    "type(mySet)"
   ]
  },
  {
   "cell_type": "code",
   "execution_count": 8,
   "id": "03f5dada",
   "metadata": {},
   "outputs": [
    {
     "data": {
      "text/plain": [
       "{'a', 'b', 'c'}"
      ]
     },
     "execution_count": 8,
     "metadata": {},
     "output_type": "execute_result"
    }
   ],
   "source": [
    "mySet"
   ]
  },
  {
   "cell_type": "code",
   "execution_count": 9,
   "id": "ac77bf63",
   "metadata": {},
   "outputs": [],
   "source": [
    "bosList=[]"
   ]
  },
  {
   "cell_type": "code",
   "execution_count": 10,
   "id": "41baf91b",
   "metadata": {},
   "outputs": [
    {
     "data": {
      "text/plain": [
       "list"
      ]
     },
     "execution_count": 10,
     "metadata": {},
     "output_type": "execute_result"
    }
   ],
   "source": [
    "type(bosList)"
   ]
  },
  {
   "cell_type": "code",
   "execution_count": 11,
   "id": "a9949141",
   "metadata": {},
   "outputs": [
    {
     "data": {
      "text/plain": [
       "[]"
      ]
     },
     "execution_count": 11,
     "metadata": {},
     "output_type": "execute_result"
    }
   ],
   "source": [
    "bosList"
   ]
  },
  {
   "cell_type": "code",
   "execution_count": 12,
   "id": "8e71349e",
   "metadata": {},
   "outputs": [],
   "source": [
    "bosSozluk={}"
   ]
  },
  {
   "cell_type": "code",
   "execution_count": 13,
   "id": "d1d55d78",
   "metadata": {},
   "outputs": [
    {
     "data": {
      "text/plain": [
       "dict"
      ]
     },
     "execution_count": 13,
     "metadata": {},
     "output_type": "execute_result"
    }
   ],
   "source": [
    "type(bosSozluk)"
   ]
  },
  {
   "cell_type": "code",
   "execution_count": 16,
   "id": "2926c10a",
   "metadata": {},
   "outputs": [],
   "source": [
    "bosSozluk[\"anahtar1\"]=1"
   ]
  },
  {
   "cell_type": "code",
   "execution_count": 17,
   "id": "1dff8757",
   "metadata": {},
   "outputs": [
    {
     "data": {
      "text/plain": [
       "{'anahtar1': 1}"
      ]
     },
     "execution_count": 17,
     "metadata": {},
     "output_type": "execute_result"
    }
   ],
   "source": [
    "bosSozluk"
   ]
  },
  {
   "cell_type": "code",
   "execution_count": 14,
   "id": "e5eaa2c9",
   "metadata": {},
   "outputs": [],
   "source": [
    "bosSet=set()"
   ]
  },
  {
   "cell_type": "code",
   "execution_count": 15,
   "id": "0c03ab00",
   "metadata": {},
   "outputs": [
    {
     "data": {
      "text/plain": [
       "set"
      ]
     },
     "execution_count": 15,
     "metadata": {},
     "output_type": "execute_result"
    }
   ],
   "source": [
    "type(bosSet)"
   ]
  },
  {
   "cell_type": "code",
   "execution_count": 18,
   "id": "54d0cc08",
   "metadata": {},
   "outputs": [
    {
     "data": {
      "text/plain": [
       "set()"
      ]
     },
     "execution_count": 18,
     "metadata": {},
     "output_type": "execute_result"
    }
   ],
   "source": [
    "bosSet"
   ]
  },
  {
   "cell_type": "code",
   "execution_count": 20,
   "id": "fb34d97f",
   "metadata": {},
   "outputs": [],
   "source": [
    "bosSet.add(10)"
   ]
  },
  {
   "cell_type": "code",
   "execution_count": 21,
   "id": "e563ac88",
   "metadata": {},
   "outputs": [
    {
     "data": {
      "text/plain": [
       "{10}"
      ]
     },
     "execution_count": 21,
     "metadata": {},
     "output_type": "execute_result"
    }
   ],
   "source": [
    "bosSet"
   ]
  },
  {
   "cell_type": "code",
   "execution_count": null,
   "id": "24eddc4b",
   "metadata": {},
   "outputs": [],
   "source": []
  }
 ],
 "metadata": {
  "kernelspec": {
   "display_name": "Python 3",
   "language": "python",
   "name": "python3"
  },
  "language_info": {
   "codemirror_mode": {
    "name": "ipython",
    "version": 3
   },
   "file_extension": ".py",
   "mimetype": "text/x-python",
   "name": "python",
   "nbconvert_exporter": "python",
   "pygments_lexer": "ipython3",
   "version": "3.8.8"
  }
 },
 "nbformat": 4,
 "nbformat_minor": 5
}
