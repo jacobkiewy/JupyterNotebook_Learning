{
 "cells": [
  {
   "cell_type": "code",
   "execution_count": 2,
   "id": "02b77baf",
   "metadata": {},
   "outputs": [
    {
     "name": "stdout",
     "output_type": "stream",
     "text": [
      "64\n"
     ]
    }
   ],
   "source": [
    "print(8*8)"
   ]
  },
  {
   "cell_type": "code",
   "execution_count": 3,
   "id": "8770c59e",
   "metadata": {},
   "outputs": [],
   "source": [
    "x=8"
   ]
  },
  {
   "cell_type": "code",
   "execution_count": 4,
   "id": "5073306d",
   "metadata": {},
   "outputs": [],
   "source": [
    "y=10"
   ]
  },
  {
   "cell_type": "code",
   "execution_count": 5,
   "id": "c4e91006",
   "metadata": {},
   "outputs": [
    {
     "data": {
      "text/plain": [
       "80"
      ]
     },
     "execution_count": 5,
     "metadata": {},
     "output_type": "execute_result"
    }
   ],
   "source": [
    "y*x"
   ]
  },
  {
   "cell_type": "code",
   "execution_count": 8,
   "id": "9ddacf60",
   "metadata": {},
   "outputs": [
    {
     "data": {
      "text/plain": [
       "72"
      ]
     },
     "execution_count": 8,
     "metadata": {},
     "output_type": "execute_result"
    }
   ],
   "source": [
    "y*x"
   ]
  },
  {
   "cell_type": "code",
   "execution_count": 7,
   "id": "3f8f5f38",
   "metadata": {},
   "outputs": [],
   "source": [
    "y=9"
   ]
  },
  {
   "cell_type": "code",
   "execution_count": 9,
   "id": "c45d0c9d",
   "metadata": {},
   "outputs": [],
   "source": [
    "a=\"Hello\""
   ]
  },
  {
   "cell_type": "code",
   "execution_count": 10,
   "id": "acbfbb3a",
   "metadata": {},
   "outputs": [
    {
     "data": {
      "text/plain": [
       "'Hello'"
      ]
     },
     "execution_count": 10,
     "metadata": {},
     "output_type": "execute_result"
    }
   ],
   "source": [
    "a"
   ]
  },
  {
   "cell_type": "code",
   "execution_count": 11,
   "id": "8f8efd80",
   "metadata": {},
   "outputs": [
    {
     "data": {
      "text/plain": [
       "720"
      ]
     },
     "execution_count": 11,
     "metadata": {},
     "output_type": "execute_result"
    }
   ],
   "source": [
    "y*80"
   ]
  },
  {
   "cell_type": "code",
   "execution_count": 16,
   "id": "c896b9a0",
   "metadata": {},
   "outputs": [
    {
     "data": {
      "text/plain": [
       "str"
      ]
     },
     "execution_count": 16,
     "metadata": {},
     "output_type": "execute_result"
    }
   ],
   "source": [
    "type(a)"
   ]
  },
  {
   "cell_type": "code",
   "execution_count": 17,
   "id": "9d93bc8f",
   "metadata": {},
   "outputs": [],
   "source": [
    "a=3.14"
   ]
  },
  {
   "cell_type": "code",
   "execution_count": 18,
   "id": "5f7bd0c6",
   "metadata": {},
   "outputs": [
    {
     "data": {
      "text/plain": [
       "3.14"
      ]
     },
     "execution_count": 18,
     "metadata": {},
     "output_type": "execute_result"
    }
   ],
   "source": [
    "a"
   ]
  },
  {
   "cell_type": "code",
   "execution_count": 20,
   "id": "aefcbc99",
   "metadata": {},
   "outputs": [
    {
     "data": {
      "text/plain": [
       "float"
      ]
     },
     "execution_count": 20,
     "metadata": {},
     "output_type": "execute_result"
    }
   ],
   "source": [
    "type(a)"
   ]
  },
  {
   "cell_type": "code",
   "execution_count": 21,
   "id": "0c56e03d",
   "metadata": {},
   "outputs": [
    {
     "data": {
      "text/plain": [
       "int"
      ]
     },
     "execution_count": 21,
     "metadata": {},
     "output_type": "execute_result"
    }
   ],
   "source": [
    "type(y)"
   ]
  },
  {
   "cell_type": "code",
   "execution_count": 22,
   "id": "a62aea59",
   "metadata": {},
   "outputs": [],
   "source": [
    "x=5\n",
    "y=4"
   ]
  },
  {
   "cell_type": "code",
   "execution_count": 23,
   "id": "21e61c46",
   "metadata": {},
   "outputs": [
    {
     "data": {
      "text/plain": [
       "1000"
      ]
     },
     "execution_count": 23,
     "metadata": {},
     "output_type": "execute_result"
    }
   ],
   "source": [
    "x*y*50"
   ]
  },
  {
   "cell_type": "markdown",
   "id": "90029ecb",
   "metadata": {},
   "source": [
    "## üslü sayı hesaplaması"
   ]
  },
  {
   "cell_type": "code",
   "execution_count": 24,
   "id": "7bf2ebe9",
   "metadata": {},
   "outputs": [
    {
     "data": {
      "text/plain": [
       "625"
      ]
     },
     "execution_count": 24,
     "metadata": {},
     "output_type": "execute_result"
    }
   ],
   "source": [
    "x*x*x*x"
   ]
  },
  {
   "cell_type": "code",
   "execution_count": 25,
   "id": "56031382",
   "metadata": {},
   "outputs": [
    {
     "data": {
      "text/plain": [
       "625"
      ]
     },
     "execution_count": 25,
     "metadata": {},
     "output_type": "execute_result"
    }
   ],
   "source": [
    "x**4"
   ]
  },
  {
   "cell_type": "code",
   "execution_count": 28,
   "id": "6161b4e0",
   "metadata": {},
   "outputs": [
    {
     "data": {
      "text/plain": [
       "0"
      ]
     },
     "execution_count": 28,
     "metadata": {},
     "output_type": "execute_result"
    }
   ],
   "source": [
    "#Remainder - Kalanını Almak\n",
    "10 % 5"
   ]
  },
  {
   "cell_type": "code",
   "execution_count": 29,
   "id": "869e103f",
   "metadata": {},
   "outputs": [
    {
     "data": {
      "text/plain": [
       "1"
      ]
     },
     "execution_count": 29,
     "metadata": {},
     "output_type": "execute_result"
    }
   ],
   "source": [
    "11 % 5"
   ]
  },
  {
   "cell_type": "markdown",
   "id": "feb93ca2",
   "metadata": {},
   "source": [
    "## Input"
   ]
  },
  {
   "cell_type": "code",
   "execution_count": 30,
   "id": "b38a3323",
   "metadata": {},
   "outputs": [
    {
     "name": "stdout",
     "output_type": "stream",
     "text": [
      "Yaşınızı Giriniz: 40\n"
     ]
    }
   ],
   "source": [
    "kullaniciYasi=input(\"Yaşınızı Giriniz: \")"
   ]
  },
  {
   "cell_type": "code",
   "execution_count": 31,
   "id": "ebc013c7",
   "metadata": {},
   "outputs": [
    {
     "data": {
      "text/plain": [
       "'40'"
      ]
     },
     "execution_count": 31,
     "metadata": {},
     "output_type": "execute_result"
    }
   ],
   "source": [
    "kullaniciYasi"
   ]
  },
  {
   "cell_type": "code",
   "execution_count": 32,
   "id": "8594d6e5",
   "metadata": {},
   "outputs": [
    {
     "data": {
      "text/plain": [
       "str"
      ]
     },
     "execution_count": 32,
     "metadata": {},
     "output_type": "execute_result"
    }
   ],
   "source": [
    "type(kullaniciYasi)"
   ]
  },
  {
   "cell_type": "code",
   "execution_count": 33,
   "id": "da7a5f5c",
   "metadata": {},
   "outputs": [],
   "source": [
    "sayisal=int(kullaniciYasi)"
   ]
  },
  {
   "cell_type": "code",
   "execution_count": 35,
   "id": "a2fe1b92",
   "metadata": {},
   "outputs": [
    {
     "data": {
      "text/plain": [
       "3200"
      ]
     },
     "execution_count": 35,
     "metadata": {},
     "output_type": "execute_result"
    }
   ],
   "source": [
    "sayisal*80"
   ]
  },
  {
   "cell_type": "code",
   "execution_count": 36,
   "id": "88405507",
   "metadata": {},
   "outputs": [],
   "source": [
    "isim=\"Yakup BEKAR\""
   ]
  },
  {
   "cell_type": "code",
   "execution_count": 39,
   "id": "eee6c798",
   "metadata": {},
   "outputs": [
    {
     "data": {
      "text/plain": [
       "'R'"
      ]
     },
     "execution_count": 39,
     "metadata": {},
     "output_type": "execute_result"
    }
   ],
   "source": [
    "isim[-1]"
   ]
  },
  {
   "cell_type": "code",
   "execution_count": 40,
   "id": "874fe024",
   "metadata": {},
   "outputs": [
    {
     "data": {
      "text/plain": [
       "'kup BEKAR'"
      ]
     },
     "execution_count": 40,
     "metadata": {},
     "output_type": "execute_result"
    }
   ],
   "source": [
    "isim[2:]"
   ]
  },
  {
   "cell_type": "code",
   "execution_count": 41,
   "id": "c099d846",
   "metadata": {},
   "outputs": [
    {
     "data": {
      "text/plain": [
       "'Yakup BEK'"
      ]
     },
     "execution_count": 41,
     "metadata": {},
     "output_type": "execute_result"
    }
   ],
   "source": [
    "isim[:-2]"
   ]
  },
  {
   "cell_type": "code",
   "execution_count": 43,
   "id": "7b1e7071",
   "metadata": {},
   "outputs": [
    {
     "data": {
      "text/plain": [
       "'p '"
      ]
     },
     "execution_count": 43,
     "metadata": {},
     "output_type": "execute_result"
    }
   ],
   "source": [
    "isim[4:6]"
   ]
  },
  {
   "cell_type": "code",
   "execution_count": null,
   "id": "8c6a0198",
   "metadata": {},
   "outputs": [],
   "source": [
    "#step size"
   ]
  },
  {
   "cell_type": "code",
   "execution_count": 44,
   "id": "02fe97ae",
   "metadata": {},
   "outputs": [
    {
     "data": {
      "text/plain": [
       "'YkpBKR'"
      ]
     },
     "execution_count": 44,
     "metadata": {},
     "output_type": "execute_result"
    }
   ],
   "source": [
    "isim[::2]"
   ]
  },
  {
   "cell_type": "code",
   "execution_count": 45,
   "id": "cc8d380d",
   "metadata": {},
   "outputs": [
    {
     "data": {
      "text/plain": [
       "'RAKEB pukaY'"
      ]
     },
     "execution_count": 45,
     "metadata": {},
     "output_type": "execute_result"
    }
   ],
   "source": [
    "isim[::-1]"
   ]
  },
  {
   "cell_type": "code",
   "execution_count": null,
   "id": "1ec2edf2",
   "metadata": {},
   "outputs": [],
   "source": []
  },
  {
   "cell_type": "code",
   "execution_count": 46,
   "id": "ff33c3fe",
   "metadata": {},
   "outputs": [],
   "source": [
    "ismim=\"yakup\""
   ]
  },
  {
   "cell_type": "code",
   "execution_count": 48,
   "id": "f5e1cfc6",
   "metadata": {},
   "outputs": [
    {
     "data": {
      "text/plain": [
       "'Yakup'"
      ]
     },
     "execution_count": 48,
     "metadata": {},
     "output_type": "execute_result"
    }
   ],
   "source": [
    "ismim.capitalize() #ilk harf büyütür"
   ]
  },
  {
   "cell_type": "code",
   "execution_count": 49,
   "id": "4465bf6c",
   "metadata": {},
   "outputs": [],
   "source": [
    "tamIsmim=\"Yakup BEKAR\""
   ]
  },
  {
   "cell_type": "code",
   "execution_count": 50,
   "id": "0b03c93d",
   "metadata": {},
   "outputs": [
    {
     "data": {
      "text/plain": [
       "['Yakup', 'BEKAR']"
      ]
     },
     "execution_count": 50,
     "metadata": {},
     "output_type": "execute_result"
    }
   ],
   "source": [
    "tamIsmim.split()"
   ]
  },
  {
   "cell_type": "code",
   "execution_count": 56,
   "id": "fb22cb36",
   "metadata": {},
   "outputs": [
    {
     "data": {
      "text/plain": [
       "list"
      ]
     },
     "execution_count": 56,
     "metadata": {},
     "output_type": "execute_result"
    }
   ],
   "source": [
    "type(tamIsmim.split())"
   ]
  },
  {
   "cell_type": "code",
   "execution_count": 52,
   "id": "798e1db0",
   "metadata": {},
   "outputs": [],
   "source": [
    "list=tamIsmim.split()"
   ]
  },
  {
   "cell_type": "code",
   "execution_count": 53,
   "id": "9af0a422",
   "metadata": {},
   "outputs": [
    {
     "data": {
      "text/plain": [
       "'Yakup'"
      ]
     },
     "execution_count": 53,
     "metadata": {},
     "output_type": "execute_result"
    }
   ],
   "source": [
    "list[0]"
   ]
  },
  {
   "cell_type": "code",
   "execution_count": 54,
   "id": "fa68d788",
   "metadata": {},
   "outputs": [
    {
     "data": {
      "text/plain": [
       "['BEKAR', 'Yakup']"
      ]
     },
     "execution_count": 54,
     "metadata": {},
     "output_type": "execute_result"
    }
   ],
   "source": [
    "list[::-1]"
   ]
  },
  {
   "cell_type": "code",
   "execution_count": 57,
   "id": "976ba7b1",
   "metadata": {},
   "outputs": [
    {
     "data": {
      "text/plain": [
       "'YAKUP BEKAR'"
      ]
     },
     "execution_count": 57,
     "metadata": {},
     "output_type": "execute_result"
    }
   ],
   "source": [
    "tamIsmim.upper()"
   ]
  },
  {
   "cell_type": "code",
   "execution_count": 58,
   "id": "7b4adf84",
   "metadata": {},
   "outputs": [
    {
     "data": {
      "text/plain": [
       "'yakup bekar'"
      ]
     },
     "execution_count": 58,
     "metadata": {},
     "output_type": "execute_result"
    }
   ],
   "source": [
    "tamIsmim.lower()"
   ]
  },
  {
   "cell_type": "code",
   "execution_count": null,
   "id": "b3192f84",
   "metadata": {},
   "outputs": [],
   "source": []
  }
 ],
 "metadata": {
  "kernelspec": {
   "display_name": "Python 3",
   "language": "python",
   "name": "python3"
  },
  "language_info": {
   "codemirror_mode": {
    "name": "ipython",
    "version": 3
   },
   "file_extension": ".py",
   "mimetype": "text/x-python",
   "name": "python",
   "nbconvert_exporter": "python",
   "pygments_lexer": "ipython3",
   "version": "3.8.8"
  },
  "widgets": {
   "application/vnd.jupyter.widget-state+json": {
    "state": {},
    "version_major": 2,
    "version_minor": 0
   }
  }
 },
 "nbformat": 4,
 "nbformat_minor": 5
}
