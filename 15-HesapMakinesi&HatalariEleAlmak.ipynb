{
 "cells": [
  {
   "cell_type": "code",
   "execution_count": null,
   "id": "f1e46361",
   "metadata": {},
   "outputs": [
    {
     "name": "stdout",
     "output_type": "stream",
     "text": [
      "ilk sayıyı giriniz: 10\n",
      "ikinci sayıyı giriniz: 20\n",
      "işleminizi seçiniz (+ - / *): +\n",
      "10 + 20 = 30\n",
      "ilk sayıyı giriniz: 10\n",
      "ikinci sayıyı giriniz: sda\n",
      "Lütfen Sayıları Düzgün Giriniz!\n",
      "ilk sayıyı giriniz: +\n",
      "Lütfen Sayıları Düzgün Giriniz!\n",
      "ilk sayıyı giriniz: 10\n",
      "ikinci sayıyı giriniz: 20\n",
      "işleminizi seçiniz (+ - / *): sdad\n",
      "Lütfen işlemlerden birini seçiniz\n",
      "ilk sayıyı giriniz: \n",
      "Lütfen Sayıları Düzgün Giriniz!\n",
      "ilk sayıyı giriniz: \n",
      "Lütfen Sayıları Düzgün Giriniz!\n",
      "ilk sayıyı giriniz: 10\n",
      "ikinci sayıyı giriniz: 20\n",
      "işleminizi seçiniz (+ - / *): *\n",
      "10 * 20 = 200\n"
     ]
    }
   ],
   "source": [
    "def hesapla(a,b,islem):\n",
    "    if islem not in \"+-*/\":\n",
    "        return \"Lütfen işlemlerden birini seçiniz\"\n",
    "    if islem==\"+\":\n",
    "        return (str(a)+\" + \"+str(b)+\" = \"+str(a+b))\n",
    "    if islem==\"-\":\n",
    "        return (str(a)+\" - \"+str(b)+\" = \"+str(a-b))\n",
    "    if islem==\"/\":\n",
    "        return (str(a)+\" / \"+str(b)+\" = \"+str(a/b))\n",
    "    if islem==\"*\":\n",
    "        return (str(a)+\" * \"+str(b)+\" = \"+str(a*b))\n",
    "    \n",
    "while True:\n",
    "    try: \n",
    "        a=int(input(\"ilk sayıyı giriniz: \"))\n",
    "        b=int(input(\"ikinci sayıyı giriniz: \"))\n",
    "        islem=input(\"işleminizi seçiniz (+ - / *): \")\n",
    "        print(hesapla(a,b,islem))\n",
    "    except:\n",
    "        print(\"Lütfen Sayıları Düzgün Giriniz!\")"
   ]
  },
  {
   "cell_type": "code",
   "execution_count": null,
   "id": "76d7e19f",
   "metadata": {},
   "outputs": [],
   "source": []
  }
 ],
 "metadata": {
  "kernelspec": {
   "display_name": "Python 3",
   "language": "python",
   "name": "python3"
  },
  "language_info": {
   "codemirror_mode": {
    "name": "ipython",
    "version": 3
   },
   "file_extension": ".py",
   "mimetype": "text/x-python",
   "name": "python",
   "nbconvert_exporter": "python",
   "pygments_lexer": "ipython3",
   "version": "3.8.8"
  }
 },
 "nbformat": 4,
 "nbformat_minor": 5
}
