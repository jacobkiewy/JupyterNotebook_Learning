{
 "cells": [
  {
   "cell_type": "code",
   "execution_count": 1,
   "id": "e6715532",
   "metadata": {},
   "outputs": [],
   "source": [
    "List=[1,2,3]"
   ]
  },
  {
   "cell_type": "code",
   "execution_count": 2,
   "id": "d21e4501",
   "metadata": {},
   "outputs": [
    {
     "data": {
      "text/plain": [
       "1"
      ]
     },
     "execution_count": 2,
     "metadata": {},
     "output_type": "execute_result"
    }
   ],
   "source": [
    "List[0]"
   ]
  },
  {
   "cell_type": "markdown",
   "id": "e6c3bf98",
   "metadata": {},
   "source": [
    "## key-value pairing (anahtar kelime - değer eşleşmesi)"
   ]
  },
  {
   "cell_type": "code",
   "execution_count": 3,
   "id": "ffefe63d",
   "metadata": {},
   "outputs": [],
   "source": [
    "#dictionary"
   ]
  },
  {
   "cell_type": "code",
   "execution_count": 4,
   "id": "1dcdfb7c",
   "metadata": {},
   "outputs": [],
   "source": [
    "benimSozluk={\"anahtarkelime\":\"deger\"}"
   ]
  },
  {
   "cell_type": "code",
   "execution_count": 5,
   "id": "7c161d15",
   "metadata": {},
   "outputs": [
    {
     "data": {
      "text/plain": [
       "dict"
      ]
     },
     "execution_count": 5,
     "metadata": {},
     "output_type": "execute_result"
    }
   ],
   "source": [
    "type(benimSozluk)"
   ]
  },
  {
   "cell_type": "code",
   "execution_count": 6,
   "id": "7402fb3b",
   "metadata": {},
   "outputs": [
    {
     "data": {
      "text/plain": [
       "{'anahtarkelime': 'deger'}"
      ]
     },
     "execution_count": 6,
     "metadata": {},
     "output_type": "execute_result"
    }
   ],
   "source": [
    "benimSozluk"
   ]
  },
  {
   "cell_type": "code",
   "execution_count": 7,
   "id": "2ddfbe1d",
   "metadata": {},
   "outputs": [
    {
     "data": {
      "text/plain": [
       "'deger'"
      ]
     },
     "execution_count": 7,
     "metadata": {},
     "output_type": "execute_result"
    }
   ],
   "source": [
    "benimSozluk[\"anahtarkelime\"]"
   ]
  },
  {
   "cell_type": "code",
   "execution_count": 8,
   "id": "c9b44753",
   "metadata": {},
   "outputs": [],
   "source": [
    "benimSozluk={\"elma\":100,\"karpuz\":200,\"muz\":300}"
   ]
  },
  {
   "cell_type": "code",
   "execution_count": 9,
   "id": "0d9be291",
   "metadata": {},
   "outputs": [
    {
     "data": {
      "text/plain": [
       "100"
      ]
     },
     "execution_count": 9,
     "metadata": {},
     "output_type": "execute_result"
    }
   ],
   "source": [
    "benimSozluk[\"elma\"]"
   ]
  },
  {
   "cell_type": "code",
   "execution_count": 10,
   "id": "d4c40306",
   "metadata": {},
   "outputs": [
    {
     "data": {
      "text/plain": [
       "dict"
      ]
     },
     "execution_count": 10,
     "metadata": {},
     "output_type": "execute_result"
    }
   ],
   "source": [
    "type(benimSozluk)"
   ]
  },
  {
   "cell_type": "code",
   "execution_count": 11,
   "id": "d4839792",
   "metadata": {},
   "outputs": [
    {
     "data": {
      "text/plain": [
       "{'elma': 100, 'karpuz': 200, 'muz': 300}"
      ]
     },
     "execution_count": 11,
     "metadata": {},
     "output_type": "execute_result"
    }
   ],
   "source": [
    "benimSozluk"
   ]
  },
  {
   "cell_type": "code",
   "execution_count": 12,
   "id": "f026c8b4",
   "metadata": {},
   "outputs": [],
   "source": [
    "benimSozluk[\"elma\"]=150"
   ]
  },
  {
   "cell_type": "code",
   "execution_count": 13,
   "id": "4b0a58a9",
   "metadata": {},
   "outputs": [
    {
     "data": {
      "text/plain": [
       "{'elma': 150, 'karpuz': 200, 'muz': 300}"
      ]
     },
     "execution_count": 13,
     "metadata": {},
     "output_type": "execute_result"
    }
   ],
   "source": [
    "benimSozluk"
   ]
  },
  {
   "cell_type": "code",
   "execution_count": 14,
   "id": "cfb19f5f",
   "metadata": {},
   "outputs": [],
   "source": [
    "benimSozluk2={156:\"Yakup\",-2:\"BEKAR\"}"
   ]
  },
  {
   "cell_type": "code",
   "execution_count": 15,
   "id": "7b6910bb",
   "metadata": {},
   "outputs": [
    {
     "data": {
      "text/plain": [
       "{156: 'Yakup', -2: 'BEKAR'}"
      ]
     },
     "execution_count": 15,
     "metadata": {},
     "output_type": "execute_result"
    }
   ],
   "source": [
    "benimSozluk2"
   ]
  },
  {
   "cell_type": "code",
   "execution_count": 16,
   "id": "2f5fe067",
   "metadata": {},
   "outputs": [
    {
     "data": {
      "text/plain": [
       "'BEKAR'"
      ]
     },
     "execution_count": 16,
     "metadata": {},
     "output_type": "execute_result"
    }
   ],
   "source": [
    "benimSozluk2[-2]"
   ]
  },
  {
   "cell_type": "code",
   "execution_count": 17,
   "id": "7a3301a7",
   "metadata": {},
   "outputs": [],
   "source": [
    "yeniDict={\"anahtar1\":100,\"anahtar2\":[1,2,3,4,5,\"Yakup\"],\"anahtar3\":{1:\"a\",2:\"b\"}}"
   ]
  },
  {
   "cell_type": "code",
   "execution_count": 18,
   "id": "fe2169e1",
   "metadata": {},
   "outputs": [
    {
     "data": {
      "text/plain": [
       "{'anahtar1': 100,\n",
       " 'anahtar2': [1, 2, 3, 4, 5, 'Yakup'],\n",
       " 'anahtar3': {1: 'a', 2: 'b'}}"
      ]
     },
     "execution_count": 18,
     "metadata": {},
     "output_type": "execute_result"
    }
   ],
   "source": [
    "yeniDict"
   ]
  },
  {
   "cell_type": "code",
   "execution_count": 19,
   "id": "849d33ba",
   "metadata": {},
   "outputs": [
    {
     "data": {
      "text/plain": [
       "dict_keys(['anahtar1', 'anahtar2', 'anahtar3'])"
      ]
     },
     "execution_count": 19,
     "metadata": {},
     "output_type": "execute_result"
    }
   ],
   "source": [
    "yeniDict.keys()"
   ]
  },
  {
   "cell_type": "code",
   "execution_count": 22,
   "id": "56b4d001",
   "metadata": {},
   "outputs": [
    {
     "data": {
      "text/plain": [
       "3"
      ]
     },
     "execution_count": 22,
     "metadata": {},
     "output_type": "execute_result"
    }
   ],
   "source": [
    "yeniDict[\"anahtar2\"][2]"
   ]
  },
  {
   "cell_type": "code",
   "execution_count": 23,
   "id": "b4e2f199",
   "metadata": {},
   "outputs": [
    {
     "data": {
      "text/plain": [
       "dict_values([100, [1, 2, 3, 4, 5, 'Yakup'], {1: 'a', 2: 'b'}])"
      ]
     },
     "execution_count": 23,
     "metadata": {},
     "output_type": "execute_result"
    }
   ],
   "source": [
    "yeniDict.values()"
   ]
  },
  {
   "cell_type": "markdown",
   "id": "9008abaf",
   "metadata": {},
   "source": [
    "Son Elemanı verir"
   ]
  },
  {
   "cell_type": "code",
   "execution_count": 26,
   "id": "8981746d",
   "metadata": {},
   "outputs": [
    {
     "data": {
      "text/plain": [
       "'Yakup'"
      ]
     },
     "execution_count": 26,
     "metadata": {},
     "output_type": "execute_result"
    }
   ],
   "source": [
    "yeniDict[\"anahtar2\"][-1]"
   ]
  },
  {
   "cell_type": "code",
   "execution_count": 25,
   "id": "bfd1d2a9",
   "metadata": {},
   "outputs": [
    {
     "data": {
      "text/plain": [
       "'b'"
      ]
     },
     "execution_count": 25,
     "metadata": {},
     "output_type": "execute_result"
    }
   ],
   "source": [
    "yeniDict[\"anahtar3\"][2]"
   ]
  },
  {
   "cell_type": "code",
   "execution_count": null,
   "id": "407f084b",
   "metadata": {},
   "outputs": [],
   "source": []
  }
 ],
 "metadata": {
  "kernelspec": {
   "display_name": "Python 3",
   "language": "python",
   "name": "python3"
  },
  "language_info": {
   "codemirror_mode": {
    "name": "ipython",
    "version": 3
   },
   "file_extension": ".py",
   "mimetype": "text/x-python",
   "name": "python",
   "nbconvert_exporter": "python",
   "pygments_lexer": "ipython3",
   "version": "3.8.8"
  }
 },
 "nbformat": 4,
 "nbformat_minor": 5
}
