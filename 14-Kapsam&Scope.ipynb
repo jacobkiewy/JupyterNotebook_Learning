{
 "cells": [
  {
   "cell_type": "code",
   "execution_count": 1,
   "id": "baf2ae0a",
   "metadata": {},
   "outputs": [],
   "source": [
    "numara=20"
   ]
  },
  {
   "cell_type": "code",
   "execution_count": 3,
   "id": "7e1dbe30",
   "metadata": {},
   "outputs": [],
   "source": [
    "def carpma(rakam):\n",
    "    numara=10\n",
    "    return numara * rakam"
   ]
  },
  {
   "cell_type": "code",
   "execution_count": 4,
   "id": "e6a3c2e5",
   "metadata": {},
   "outputs": [
    {
     "data": {
      "text/plain": [
       "50"
      ]
     },
     "execution_count": 4,
     "metadata": {},
     "output_type": "execute_result"
    }
   ],
   "source": [
    "carpma(5)"
   ]
  },
  {
   "cell_type": "code",
   "execution_count": 5,
   "id": "07c65c53",
   "metadata": {},
   "outputs": [
    {
     "name": "stdout",
     "output_type": "stream",
     "text": [
      "20\n"
     ]
    }
   ],
   "source": [
    "print(numara)"
   ]
  },
  {
   "cell_type": "markdown",
   "id": "9279f024",
   "metadata": {},
   "source": [
    "## Local, Enclosing, Global, Built-in"
   ]
  },
  {
   "cell_type": "code",
   "execution_count": 11,
   "id": "10557330",
   "metadata": {},
   "outputs": [],
   "source": [
    "#Global\n",
    "benimAdim=\"Yakup\"\n",
    "\n",
    "def benimFonksiyonum():\n",
    "    #Enclosing\n",
    "    benimAdim=\"Burak\"\n",
    "    \n",
    "    def icFonksiyon():\n",
    "        #Local\n",
    "        #benimAdim=\"Gökhan\"\n",
    "        print(benimAdim)\n",
    "    icFonksiyon()"
   ]
  },
  {
   "cell_type": "code",
   "execution_count": 12,
   "id": "63e97860",
   "metadata": {},
   "outputs": [
    {
     "name": "stdout",
     "output_type": "stream",
     "text": [
      "Burak\n"
     ]
    }
   ],
   "source": [
    "benimFonksiyonum()"
   ]
  },
  {
   "cell_type": "code",
   "execution_count": 13,
   "id": "a8fc0b32",
   "metadata": {},
   "outputs": [
    {
     "data": {
      "text/plain": [
       "'Yakup'"
      ]
     },
     "execution_count": 13,
     "metadata": {},
     "output_type": "execute_result"
    }
   ],
   "source": [
    "benimAdim"
   ]
  },
  {
   "cell_type": "code",
   "execution_count": 14,
   "id": "2966b834",
   "metadata": {},
   "outputs": [],
   "source": [
    "y=10\n",
    "def ornekFonksiyon():\n",
    "    global y\n",
    "    y=5\n",
    "    print(y)"
   ]
  },
  {
   "cell_type": "code",
   "execution_count": 17,
   "id": "8338b2ed",
   "metadata": {},
   "outputs": [
    {
     "name": "stdout",
     "output_type": "stream",
     "text": [
      "5\n"
     ]
    }
   ],
   "source": [
    "ornekFonksiyon()"
   ]
  },
  {
   "cell_type": "code",
   "execution_count": 18,
   "id": "b08da2be",
   "metadata": {},
   "outputs": [
    {
     "data": {
      "text/plain": [
       "5"
      ]
     },
     "execution_count": 18,
     "metadata": {},
     "output_type": "execute_result"
    }
   ],
   "source": [
    "y"
   ]
  },
  {
   "cell_type": "code",
   "execution_count": null,
   "id": "19093767",
   "metadata": {},
   "outputs": [],
   "source": []
  }
 ],
 "metadata": {
  "kernelspec": {
   "display_name": "Python 3",
   "language": "python",
   "name": "python3"
  },
  "language_info": {
   "codemirror_mode": {
    "name": "ipython",
    "version": 3
   },
   "file_extension": ".py",
   "mimetype": "text/x-python",
   "name": "python",
   "nbconvert_exporter": "python",
   "pygments_lexer": "ipython3",
   "version": "3.8.8"
  }
 },
 "nbformat": 4,
 "nbformat_minor": 5
}
